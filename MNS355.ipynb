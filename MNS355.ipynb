{
  "cells": [
    {
      "cell_type": "code",
      "execution_count": 24,
      "metadata": {
        "id": "XRGXNWOPkoOR"
      },
      "outputs": [],
      "source": [
        "import numpy as np"
      ]
    },
    {
      "cell_type": "code",
      "execution_count": 25,
      "metadata": {
        "id": "ZjvcSvT2ku3D"
      },
      "outputs": [],
      "source": [
        "import pandas as pd"
      ]
    },
    {
      "cell_type": "code",
      "execution_count": 26,
      "metadata": {
        "id": "Dk1GUnsNkw0V"
      },
      "outputs": [],
      "source": [
        "import matplotlib.pyplot as plt\n"
      ]
    },
    {
      "cell_type": "markdown",
      "metadata": {
        "id": "Wj6rkELwqS1t"
      },
      "source": [
        "INITIAL NUMBER DENSITY OF NS."
      ]
    },
    {
      "cell_type": "code",
      "execution_count": 27,
      "metadata": {
        "id": "j6O1hVu3laWd"
      },
      "outputs": [],
      "source": [
        " def initial_n(): #initialise no.of neutrons per unit volume at r=0\n",
        "\n",
        "   n=1\n",
        "   err=1\n",
        "   tol=1e-15  #tolerance value: the diff btwn max&min dimensions of permissble errors\n",
        "   count=0\n",
        "   #newton raphson method\n",
        "   while err > tol:\n",
        "    count+=1 #increment count value\n",
        "    fn = 236*n**(2.54)+n*mn - rho_s #f\n",
        "    dfn = 236*2.54*n**(1.54)+mn        #f'\n",
        "    temp = n - fn/dfn\n",
        "    err=np.abs(n-temp) #abosolute function to convert -ve values to +ve values\n",
        "    n=temp\n",
        "   print(\"Newton-Raphson Converged after\", count,\"iterations\")\n",
        "   return n"
      ]
    },
    {
      "cell_type": "markdown",
      "metadata": {
        "id": "4sC36PLbqp8F"
      },
      "source": [
        "ENERGY DENSITY OF NS\n"
      ]
    },
    {
      "cell_type": "code",
      "execution_count": 28,
      "metadata": {
        "id": "rtFW7PN7qKvm"
      },
      "outputs": [],
      "source": [
        "def rho(p):\n",
        "\n",
        "  n = (p*rho_s/363.44)**(1/2.54)\n",
        "  return (236.*n**2.54 + n*mn)/rho_s\n",
        "\n",
        "  '''\n",
        "  energy density at given pressure\n",
        "  rho_s - central density at r = 0\n",
        "  mn  - mass of neutron\n",
        "  n - num density at given pressure\n",
        "  '''"
      ]
    },
    {
      "cell_type": "markdown",
      "metadata": {
        "id": "mg9-utSUs3H4"
      },
      "source": [
        "PRESSURE GRADIENT OF NS"
      ]
    },
    {
      "cell_type": "code",
      "execution_count": 29,
      "metadata": {
        "id": "t7p3lFUWscAh"
      },
      "outputs": [],
      "source": [
        "def dp_dr(r,m,p,flag): #flag-choose btwn classical &relativistic models\n",
        " '''\n",
        "r = radius\n",
        "m= mass w.r.t r\n",
        "p=pressure w.r.t r\n",
        "'''\n",
        "\n",
        " if flag == 0:\n",
        "    y = -m * rho(p) /(r**2 + 1e-20) #classical model\n",
        " else:\n",
        "    y = -(p + rho(p))*(m + p*r**3)/(r**2 -2*m*r + 1e-20) #relativistic model\n",
        " return y\n",
        "\n",
        "\n"
      ]
    },
    {
      "cell_type": "markdown",
      "metadata": {
        "id": "wdR7XuDk_DSm"
      },
      "source": [
        "MASS GRADIENT"
      ]
    },
    {
      "cell_type": "code",
      "execution_count": 30,
      "metadata": {
        "id": "gEybXxdw_C4G"
      },
      "outputs": [],
      "source": [
        "def dm_dr(r,m,p):\n",
        "  #use same as pressure gradient\n",
        "  return rho(p)*r**2"
      ]
    },
    {
      "cell_type": "markdown",
      "metadata": {
        "id": "4QbY0DUd12wj"
      },
      "source": [
        "RK4"
      ]
    },
    {
      "cell_type": "code",
      "execution_count": 31,
      "metadata": {
        "id": "9N6os3yA8xaZ"
      },
      "outputs": [],
      "source": [
        "def RK4Solver(r,m,p,h,flag):\n",
        "\n",
        "    '''\n",
        "    Runge - Kutta 4th order Method\n",
        "    Calculates 4 different pressure and mass gradients\n",
        "    K1_ - Mass Gradients\n",
        "    K2_ - Pressure Gradients\n",
        "    '''\n",
        "    y = np.zeros(2)                                               # To store the next value of m and p\n",
        "\n",
        "    # Gradient 1 at start point\n",
        "    k11 = dm_dr(r, m, p)\n",
        "    k21 = dp_dr(r, m, p, flag)\n",
        "\n",
        "    # Gradient 2 at mid of start and end point\n",
        "    k12 = dm_dr(r + 0.5*h, m + 0.5*k11*h, p + 0.5*k21*h)\n",
        "    k22 = dp_dr(r + 0.5*h, m + 0.5*k11*h, p + 0.5*k21*h, flag)\n",
        "    # Gradient 3 at mid of start and end point\n",
        "    k13 = dm_dr(r + 0.5*h, m + 0.5*k12*h, p + 0.5*k22*h)\n",
        "    k23 = dp_dr(r + 0.5*h, m + 0.5*k12*h, p + 0.5*k22*h, flag)\n",
        "\n",
        "    # Gradient 4 at end point\n",
        "    k14 = dm_dr(r + h, m + k13*h, p + k23*h)\n",
        "    k24 = dp_dr(r + h, m + k13*h, p + k23*h, flag)\n",
        "\n",
        "    # Updation of m and p\n",
        "    y[0] = m + h*(k11 + 2*k12 + 2*k13 + k14)/6\n",
        "    y[1] = p + h*(k21 + 2*k22 + 2*k23 + k24)/6\n",
        "\n",
        "    return y"
      ]
    },
    {
      "cell_type": "markdown",
      "metadata": {
        "id": "2xPMjc5b2Mhh"
      },
      "source": [
        "PLOT THE DATA"
      ]
    },
    {
      "cell_type": "code",
      "execution_count": 32,
      "metadata": {
        "id": "l9gLQXqi2L9l"
      },
      "outputs": [],
      "source": [
        "def plot_data(color,label):\n",
        "  #mass\n",
        "  plt.subplot(1,2,1)\n",
        "  plt.plot(r*r0*1e-18, m*M0/Ms, color=color,linewidth=1.2,label=label)\n",
        "  plt.xlabel('distance, $r$(km),fontsize=13')\n",
        "  plt.ylabel('Mass, $M/M_{sun}$,fontsize=13')\n",
        "  plt.title('Mass profile of a Neutron Star',color='black',weight='bold',fontsize=13)\n",
        "  plt.xlim(left=0)\n",
        "  plt.ylim(bottom=0)\n",
        "  plt.legend(fontsize=13,frameon=False)\n",
        "\n",
        "\n",
        "\n",
        "  #pressure\n",
        "  plt.subplot(1,2,2)\n",
        "  plt.plot(r*r0*1e-18, p*rho_s, color=color,linewidth=1.2,label=label)\n",
        "  plt.xlabel('distance, $r$(km),fontsize=13')\n",
        "  plt.ylabel('Pressure, $P$ $(MeV/fm^{3}$),fontsize=13')\n",
        "  plt.title('Pressure profile of a Neutron Star',color='black',weight='bold',fontsize=13)\n",
        "  plt.xlim(left=0)\n",
        "  plt.ylim(bottom=0)\n",
        "  plt.legend(fontsize=13,frameon=False)\n",
        "\n"
      ]
    },
    {
      "cell_type": "code",
      "execution_count": 33,
      "metadata": {
        "id": "etC45_tu32W5"
      },
      "outputs": [],
      "source": [
        "#simulation of parameters and conversion factors\n",
        "\n",
        "hc=197.327   #conversion factor in MeV\n",
        "G=  hc*6.67259e-45   #gravitional const\n",
        "Ms=1.1157467e60  #mass of sun\n",
        "rho_s=1665.3  #central density of NS\n",
        "M0=(4*3.14159265*(G**3)*rho_s)**(-0.5)\n",
        "r0=G*M0\n",
        "mn=938.926  #mass of NS"
      ]
    },
    {
      "cell_type": "markdown",
      "metadata": {
        "id": "LbLabeZU4jZi"
      },
      "source": [
        "INITIALISE VALUES"
      ]
    },
    {
      "cell_type": "code",
      "execution_count": 34,
      "metadata": {
        "id": "J125ptdK9J7k"
      },
      "outputs": [],
      "source": [
        "#Value of radius,\n",
        "N=1501\n",
        "r=np.linspace(0,15,N)\n",
        "h=r[1]-r[0]#stepsize\n",
        "tol=9e-5 #tolerance value"
      ]
    },
    {
      "cell_type": "code",
      "execution_count": 35,
      "metadata": {
        "id": "ZU4mK8jc47By"
      },
      "outputs": [],
      "source": [
        "#array to store the values\n",
        "m = np.zeros(N)\n",
        "p = np.zeros(N)"
      ]
    },
    {
      "cell_type": "code",
      "execution_count": 36,
      "metadata": {
        "colab": {
          "base_uri": "https://localhost:8080/"
        },
        "id": "zhoVRMDQ5Y_u",
        "outputId": "fd89d11f-fba1-46aa-ec00-d3531d0e1bed"
      },
      "outputs": [
        {
          "name": "stdout",
          "output_type": "stream",
          "text": [
            "Newton-Raphson Converged after 5 iterations\n"
          ]
        }
      ],
      "source": [
        "#initial num denaity\n",
        "ni = initial_n()"
      ]
    },
    {
      "cell_type": "code",
      "execution_count": 37,
      "metadata": {
        "id": "AlAXaDJw5fJf"
      },
      "outputs": [],
      "source": [
        "#set initial values\n",
        "r[0] = 0\n",
        "m[0] = 0\n",
        "p[0] = 363.44*(ni**2.54)/rho_s"
      ]
    },
    {
      "cell_type": "code",
      "execution_count": 38,
      "metadata": {
        "id": "zny9LJez6T9j"
      },
      "outputs": [],
      "source": [
        "flag_set=[0,1]"
      ]
    },
    {
      "cell_type": "code",
      "execution_count": 39,
      "metadata": {
        "colab": {
          "base_uri": "https://localhost:8080/"
        },
        "id": "XX7NwGGZ6GZw",
        "outputId": "77c59a1d-e1b3-46fb-bcf5-66002a4c065b"
      },
      "outputs": [
        {
          "name": "stdout",
          "output_type": "stream",
          "text": [
            "Initial number density, ni= 1.2918969375342138\n"
          ]
        }
      ],
      "source": [
        "print(\"Initial number density, ni=\", ni)"
      ]
    },
    {
      "cell_type": "code",
      "execution_count": 40,
      "metadata": {
        "colab": {
          "base_uri": "https://localhost:8080/"
        },
        "id": "0BvDtQ1c6RJ9",
        "outputId": "2c95244b-8723-4853-d6cd-0c01d29e4e66"
      },
      "outputs": [
        {
          "name": "stdout",
          "output_type": "stream",
          "text": [
            "Initial Pressure, p[0] =  696.5487390842761 MeV/fm^3\n"
          ]
        }
      ],
      "source": [
        "print(\"Initial Pressure, p[0] = \",p[0]*rho_s, \"MeV/fm^3\" )"
      ]
    },
    {
      "cell_type": "code",
      "execution_count": 41,
      "metadata": {
        "colab": {
          "base_uri": "https://localhost:8080/"
        },
        "id": "P12oK7lO7ES-",
        "outputId": "7101db39-fc81-46ed-bd5d-096ef1f721d1"
      },
      "outputs": [
        {
          "name": "stdout",
          "output_type": "stream",
          "text": [
            "Simulation range, R = 0 to R = 90.36486611870906 km\n"
          ]
        }
      ],
      "source": [
        "print(\"Simulation range, R = 0 to R =\", r[-1]*r0*1e-18,\"km\" )"
      ]
    },
    {
      "cell_type": "code",
      "execution_count": 42,
      "metadata": {
        "colab": {
          "base_uri": "https://localhost:8080/"
        },
        "id": "bbjvcYLy7_XZ",
        "outputId": "3d057aca-8701-4620-b8b7-dc8724ff8592"
      },
      "outputs": [
        {
          "name": "stdout",
          "output_type": "stream",
          "text": [
            "Step size for RK4 is  0.01\n"
          ]
        }
      ],
      "source": [
        "print(\"Step size for RK4 is \", h)"
      ]
    },
    {
      "cell_type": "markdown",
      "metadata": {
        "id": "v5HPSpBp9NE3"
      },
      "source": [
        "MODEL THE NEUTRON STAR WITH FOR LOOP"
      ]
    },
    {
      "cell_type": "code",
      "execution_count": 43,
      "metadata": {
        "colab": {
          "base_uri": "https://localhost:8080/",
          "height": 651
        },
        "id": "F93c37gi8L8S",
        "outputId": "74bb15c7-8e35-4329-a454-139807781c55"
      },
      "outputs": [
        {
          "name": "stdout",
          "output_type": "stream",
          "text": [
            "\n",
            "=====================================================\n",
            "Classical Model Results: P < 9e-05 found after 275 runs\n",
            "=====================================================\n",
            "Initial density, rho_s =  1665.3 MeV/fm^3\n",
            "Total mass =  10.075592302895434 times Solar mass\n",
            "Radius of the Neutron star =  16.627135365842467 km\n",
            "\n",
            "=====================================================\n",
            "Relativistic Model Results: P < 9e-05 found after 161 runs\n",
            "=====================================================\n",
            "Initial density, rho_s =  1665.3 MeV/fm^3\n",
            "Total mass =  1.878156929086536 times Solar mass\n",
            "Radius of the Neutron star =  9.759405540820579 km\n",
            "\n"
          ]
        },
        {
          "data": {
            "image/png": "[encoded data removed]",
            "text/plain": [
              "<Figure size 1800x500 with 2 Axes>"
            ]
          },
          "metadata": {},
          "output_type": "display_data"
        }
      ],
      "source": [
        "plt.figure(figsize = (18, 5))\n",
        "for k in range(0,2):\n",
        "    flag = flag_set[k]\n",
        "    for i in range(0,N-1):\n",
        "        if flag == 0:\n",
        "           [m[i+1], p[i+1]] = RK4Solver(r[i],m[i],p[i],h,flag) # use classical model\n",
        "        else:\n",
        "           [m[i+1], p[i+1]] = RK4Solver(r[i],m[i],p[i],h,flag) # use relativistic model\n",
        "        if p[i+1] < tol:                                        # if the value of the pressure goes below tolerance (close to 0 as we know)\n",
        "            break                                               # the simulation is completed\n",
        "    print()\n",
        "    if i == N-2:                                                # if the pressure value was not able to go below the tolerance value\n",
        "        lbl1 = \"Program didn't converge to P = 0, extend the maximum value of r\"\n",
        "    else:                                                       # if simulation stopped before this\n",
        "        lbl1 = f\"P < {tol} found after {i} runs\"\n",
        "\n",
        "    m = m[:i+2] # m[0:i+2 --> Exclusive index]\n",
        "    p = p[:i+2]\n",
        "    r = r[:i+2]\n",
        "\n",
        "    if flag == 0:\n",
        "        lbl = \"Classical Model\"\n",
        "        plot_data('tab:red', \"Classical Model\")\n",
        "    else:\n",
        "        lbl = \"Relativistic Model\"\n",
        "        plot_data('tab:cyan', \"Relativistic Model\")\n",
        "\n",
        "    print (\"=====================================================\")\n",
        "    print (lbl, \"Results:\", lbl1)\n",
        "    print (\"=====================================================\")\n",
        "    print (\"Initial density, rho_s = \", rho_s, \"MeV/fm^3\")\n",
        "    print (\"Total mass = \", m[-1]*M0/Ms, \"times Solar mass\")\n",
        "    print (\"Radius of the Neutron star = \", r[-1]*r0*1e-18, \"km\")\n",
        "\n",
        "print()\n",
        "plt.subplots_adjust(wspace = 0.15)"
      ]
    },
    {
      "cell_type": "code",
      "execution_count": 44,
      "metadata": {
        "colab": {
          "base_uri": "https://localhost:8080/"
        },
        "id": "E6_vakqJGzZ7",
        "outputId": "46f3e6d2-a4be-4e0d-afcb-c973500c2309"
      },
      "outputs": [
        {
          "data": {
            "text/plain": [
              "2.748167888074617"
            ]
          },
          "execution_count": 44,
          "metadata": {},
          "output_type": "execute_result"
        }
      ],
      "source": [
        "np.linspace(0,15,1502)[275]"
      ]
    },
    {
      "cell_type": "code",
      "execution_count": 45,
      "metadata": {
        "colab": {
          "base_uri": "https://localhost:8080/"
        },
        "id": "672GrPGbJI2F",
        "outputId": "bc9ac751-8b52-4f0f-d05d-73219f67c7d2"
      },
      "outputs": [
        {
          "data": {
            "text/plain": [
              "1.6555854885173211e+19"
            ]
          },
          "execution_count": 45,
          "metadata": {},
          "output_type": "execute_result"
        }
      ],
      "source": [
        "np.linspace(0,15,1502)[275]*r0"
      ]
    },
    {
      "cell_type": "code",
      "execution_count": 46,
      "metadata": {
        "colab": {
          "base_uri": "https://localhost:8080/"
        },
        "id": "vlzAhW5wJMON",
        "outputId": "b0376137-af7f-43a2-bc77-a65145d3698a"
      },
      "outputs": [
        {
          "data": {
            "text/plain": [
              "16.55585488517321"
            ]
          },
          "execution_count": 46,
          "metadata": {},
          "output_type": "execute_result"
        }
      ],
      "source": [
        "np.linspace(0,15,1502)[275]*r0*1e-18"
      ]
    },
    {
      "cell_type": "code",
      "execution_count": 47,
      "metadata": {
        "colab": {
          "base_uri": "https://localhost:8080/"
        },
        "id": "X2b8KkmDJP7g",
        "outputId": "1ccf9c8d-f9c7-46e3-c231-8ec947f4323c"
      },
      "outputs": [
        {
          "data": {
            "text/plain": [
              "0.1655585488517321"
            ]
          },
          "execution_count": 47,
          "metadata": {},
          "output_type": "execute_result"
        }
      ],
      "source": [
        "np.linspace(0,15,1502)[275]*r0*1e-20"
      ]
    },
    {
      "cell_type": "code",
      "execution_count": 48,
      "metadata": {
        "colab": {
          "base_uri": "https://localhost:8080/"
        },
        "id": "sKf5Pz6RJijN",
        "outputId": "8119038b-2420-47ca-bc18-de3b0b8dbeb2"
      },
      "outputs": [
        {
          "data": {
            "text/plain": [
              "9.752903605083855e+18"
            ]
          },
          "execution_count": 48,
          "metadata": {},
          "output_type": "execute_result"
        }
      ],
      "source": [
        "np.linspace(0,15,1502)[162]*r0"
      ]
    },
    {
      "cell_type": "code",
      "execution_count": 49,
      "metadata": {
        "colab": {
          "base_uri": "https://localhost:8080/"
        },
        "id": "kaNNO018J0fg",
        "outputId": "2fdf31a4-d4ca-470f-d538-cb570efba791"
      },
      "outputs": [
        {
          "data": {
            "text/plain": [
              "9.752903605083855"
            ]
          },
          "execution_count": 49,
          "metadata": {},
          "output_type": "execute_result"
        }
      ],
      "source": [
        "np.linspace(0,15,1502)[162]*r0*1e-18"
      ]
    },
    {
      "cell_type": "code",
      "execution_count": 50,
      "metadata": {},
      "outputs": [
        {
          "name": "stdout",
          "output_type": "stream",
          "text": [
            "Initial energy. density, E =  [1.         0.99992096 0.99970704 0.99935132 0.99885366 0.99821422\n",
            " 0.99743324 0.99651107 0.99544809 0.99424476 0.99290157 0.99141911\n",
            " 0.989798   0.98803892 0.98614261 0.98410988 0.98194158 0.97963861\n",
            " 0.97720194 0.97463258 0.97193159 0.96910009 0.96613925 0.96305029\n",
            " 0.95983446 0.95649308 0.9530275  0.94943913 0.94572939 0.94189978\n",
            " 0.93795183 0.93388709 0.92970716 0.92541368 0.92100833 0.91649281\n",
            " 0.91186886 0.90713824 0.90230276 0.89736423 0.89232452 0.88718549\n",
            " 0.88194905 0.87661711 0.87119163 0.86567455 0.86006786 0.85437354\n",
            " 0.84859361 0.84273009 0.836785   0.83076039 0.82465831 0.81848081\n",
            " 0.81222996 0.80590781 0.79951644 0.79305792 0.78653432 0.7799477\n",
            " 0.77330014 0.76659368 0.75983039 0.75301231 0.74614149 0.73921996\n",
            " 0.73224974 0.72523283 0.71817124 0.71106696 0.70392194 0.69673815\n",
            " 0.68951752 0.68226197 0.67497339 0.66765368 0.66030469 0.65292825\n",
            " 0.64552619 0.6381003  0.63065235 0.62318407 0.6156972  0.60819342\n",
            " 0.60067439 0.59314176 0.58559714 0.57804211 0.57047821 0.56290698\n",
            " 0.55532989 0.54774841 0.54016397 0.53257797 0.52499175 0.51740665\n",
            " 0.50982397 0.50224496 0.49467085 0.48710282 0.47954202 0.47198958\n",
            " 0.46444655 0.45691399 0.44939289 0.44188421 0.43438887 0.42690773\n",
            " 0.41944165 0.4119914  0.40455773 0.39714135 0.3897429  0.382363\n",
            " 0.37500219 0.36766099 0.36033985 0.35303916 0.34575927 0.33850046\n",
            " 0.33126295 0.32404689 0.31685238 0.30967943 0.30252798 0.29539791\n",
            " 0.28828898 0.28120089 0.27413323 0.26708548 0.26005704 0.25304715\n",
            " 0.24605494 0.2390794  0.23211936 0.22517346 0.21824018 0.21131776\n",
            " 0.20440422 0.19749729 0.19059442 0.18369268 0.17678878 0.16987892\n",
            " 0.1629588  0.15602345 0.14906716 0.1420833  0.13506411 0.12800048\n",
            " 0.12088159 0.11369441 0.10642312 0.09904813 0.0915448  0.08388134\n",
            " 0.07601561 0.06788965 0.05941987 0.05047746 0.04084384 0.03008585\n",
            " 0.01709577]\n"
          ]
        }
      ],
      "source": [
        "Energy = rho(p)\n",
        "print(\"Initial energy. density, E = \", Energy)"
      ]
    },
    {
      "cell_type": "code",
      "execution_count": 51,
      "metadata": {},
      "outputs": [
        {
          "name": "stdout",
          "output_type": "stream",
          "text": [
            "Pressure per Unit, P =  [-0.         -0.00333283 -0.00666348 -0.00998956 -0.01330882 -0.016619\n",
            " -0.01991785 -0.02320313 -0.02647263 -0.02972415 -0.03295549 -0.03616451\n",
            " -0.03934907 -0.04250707 -0.04563643 -0.04873512 -0.05180112 -0.05483248\n",
            " -0.05782726 -0.06078357 -0.06369957 -0.06657346 -0.0694035  -0.07218796\n",
            " -0.07492522 -0.07761365 -0.08025173 -0.08283794 -0.08537086 -0.08784911\n",
            " -0.09027137 -0.09263638 -0.09494292 -0.09718988 -0.09937616 -0.10150074\n",
            " -0.10356269 -0.10556111 -0.10749516 -0.10936409 -0.11116721 -0.11290387\n",
            " -0.11457351 -0.11617562 -0.11770975 -0.11917553 -0.12057265 -0.12190084\n",
            " -0.12315991 -0.12434974 -0.12547025 -0.12652143 -0.12750333 -0.12841606\n",
            " -0.12925977 -0.13003469 -0.13074109 -0.1313793  -0.13194969 -0.1324527\n",
            " -0.1328888  -0.13325853 -0.13356246 -0.13380122 -0.13397546 -0.13408589\n",
            " -0.13413327 -0.13411838 -0.13404206 -0.13390516 -0.13370858 -0.13345325\n",
            " -0.13314015 -0.13277025 -0.13234458 -0.1318642  -0.13133017 -0.13074359\n",
            " -0.13010558 -0.12941728 -0.12867986 -0.12789447 -0.12706232 -0.12618462\n",
            " -0.12526257 -0.1242974  -0.12329037 -0.12224271 -0.12115567 -0.12003052\n",
            " -0.11886852 -0.11767092 -0.11643901 -0.11517405 -0.11387729 -0.11255001\n",
            " -0.11119346 -0.10980889 -0.10839756 -0.10696071 -0.10549956 -0.10401534\n",
            " -0.10250926 -0.10098253 -0.09943633 -0.09787184 -0.09629023 -0.09469263\n",
            " -0.09308018 -0.091454   -0.08981518 -0.08816481 -0.08650393 -0.0848336\n",
            " -0.08315483 -0.08146862 -0.07977595 -0.07807777 -0.07637501 -0.07466859\n",
            " -0.07295938 -0.07124824 -0.06953601 -0.06782348 -0.06611144 -0.06440064\n",
            " -0.06269178 -0.06098557 -0.05928267 -0.05758369 -0.05588923 -0.05419985\n",
            " -0.05251607 -0.05083838 -0.04916722 -0.04750298 -0.04584603 -0.04419668\n",
            " -0.04255518 -0.04092174 -0.0392965  -0.03767952 -0.03607081 -0.03447029\n",
            " -0.03287777 -0.03129296 -0.02971544 -0.02814465 -0.02657982 -0.02501999\n",
            " -0.0234639  -0.02190995 -0.0203561  -0.0187997  -0.01723729 -0.01566428\n",
            " -0.01407439 -0.01245879 -0.01080446 -0.00909093 -0.00728282 -0.00530878\n",
            " -0.00298352]\n"
          ]
        }
      ],
      "source": [
        "Press = dp_dr(r,m,p,flag=0)\n",
        "print(\"Pressure per Unit, P = \", Press)"
      ]
    },
    {
      "cell_type": "code",
      "execution_count": 52,
      "metadata": {},
      "outputs": [
        {
          "name": "stdout",
          "output_type": "stream",
          "text": [
            "Pressure per Unit, P =  [-0.         -0.0106583  -0.02130963 -0.03194676 -0.04256263 -0.05315021\n",
            " -0.06370247 -0.07421244 -0.08467318 -0.09507781 -0.10541951 -0.11569153\n",
            " -0.12588717 -0.13599985 -0.14602304 -0.15595033 -0.1657754  -0.17549203\n",
            " -0.18509412 -0.1945757  -0.2039309  -0.21315401 -0.22223943 -0.23118172\n",
            " -0.23997556 -0.24861581 -0.25709746 -0.26541569 -0.27356581 -0.28154331\n",
            " -0.28934386 -0.29696329 -0.30439762 -0.31164302 -0.31869588 -0.32555276\n",
            " -0.33221039 -0.3386657  -0.34491582 -0.35095806 -0.35678992 -0.36240909\n",
            " -0.36781346 -0.3730011  -0.37797029 -0.38271949 -0.38724736 -0.39155274\n",
            " -0.39563466 -0.39949236 -0.40312524 -0.40653291 -0.40971514 -0.4126719\n",
            " -0.41540333 -0.41790975 -0.42019166 -0.42224973 -0.42408479 -0.42569785\n",
            " -0.42709007 -0.42826277 -0.42921745 -0.42995574 -0.43047942 -0.43079043\n",
            " -0.43089083 -0.43078284 -0.43046881 -0.42995119 -0.42923261 -0.42831578\n",
            " -0.42720355 -0.42589886 -0.42440478 -0.42272448 -0.42086123 -0.4188184\n",
            " -0.41659944 -0.41420791 -0.41164744 -0.40892174 -0.4060346  -0.40298988\n",
            " -0.3997915  -0.39644346 -0.39294981 -0.38931466 -0.38554216 -0.38163652\n",
            " -0.37760199 -0.37344286 -0.36916347 -0.36476817 -0.36026134 -0.35564741\n",
            " -0.35093082 -0.34611602 -0.34120748 -0.3362097  -0.33112715 -0.32596434\n",
            " -0.32072578 -0.31541596 -0.31003937 -0.30460052 -0.29910386 -0.29355388\n",
            " -0.28795501 -0.28231168 -0.2766283  -0.27090924 -0.26515885 -0.25938145\n",
            " -0.25358131 -0.24776268 -0.24192974 -0.23608664 -0.23023749 -0.22438631\n",
            " -0.21853711 -0.2126938  -0.20686024 -0.20104021 -0.19523743 -0.18945553\n",
            " -0.18369805 -0.17796846 -0.17227011 -0.16660628 -0.16098012 -0.15539469\n",
            " -0.1498529  -0.14435757 -0.13891137 -0.13351683 -0.12817634 -0.12289211\n",
            " -0.1176662  -0.11250049 -0.10739666 -0.10235616 -0.09738024 -0.09246987\n",
            " -0.08762576 -0.0828483  -0.07813753 -0.07349307 -0.06891409 -0.0643992\n",
            " -0.05994631 -0.05555252 -0.05121388 -0.04692505 -0.04267887 -0.0384656\n",
            " -0.03427179 -0.0300783  -0.02585669 -0.02156199 -0.01711604 -0.01236012\n",
            " -0.00687968]\n"
          ]
        }
      ],
      "source": [
        "Press = dp_dr(r,m,p,flag=1)\n",
        "print(\"Pressure per Unit, P = \", Press)"
      ]
    },
    {
      "cell_type": "code",
      "execution_count": 53,
      "metadata": {},
      "outputs": [
        {
          "name": "stdout",
          "output_type": "stream",
          "text": [
            "Mass per Unit, M =  [0.00000000e+00 9.99920963e-05 3.99882815e-04 8.99416189e-04\n",
            " 1.59816586e-03 2.49553554e-03 3.59075968e-03 4.88290426e-03\n",
            " 6.37086780e-03 8.05338252e-03 9.92901571e-03 1.19961712e-02\n",
            " 1.42530911e-02 1.66978577e-02 1.93283952e-02 2.21424724e-02\n",
            " 2.51377045e-02 2.83115559e-02 3.16613429e-02 3.51842360e-02\n",
            " 3.88772635e-02 4.27373141e-02 4.67611399e-02 5.09453604e-02\n",
            " 5.52864651e-02 5.97808177e-02 6.44246593e-02 6.92141124e-02\n",
            " 7.41451844e-02 7.92137719e-02 8.44156645e-02 8.97465489e-02\n",
            " 9.52020130e-02 1.00777550e-01 1.06468563e-01 1.12270369e-01\n",
            " 1.18178204e-01 1.24187225e-01 1.30292518e-01 1.36489100e-01\n",
            " 1.42771923e-01 1.49135881e-01 1.55575812e-01 1.62086504e-01\n",
            " 1.68662699e-01 1.75299096e-01 1.81990358e-01 1.88731115e-01\n",
            " 1.95515968e-01 2.02339494e-01 2.09196250e-01 2.16080778e-01\n",
            " 2.22987607e-01 2.29911260e-01 2.36846255e-01 2.43787113e-01\n",
            " 2.50728357e-01 2.57664520e-01 2.64590146e-01 2.71499796e-01\n",
            " 2.78388049e-01 2.85249508e-01 2.92078801e-01 2.98870587e-01\n",
            " 3.05619555e-01 3.12320433e-01 3.18967985e-01 3.25557018e-01\n",
            " 3.32082383e-01 3.38538979e-01 3.44921752e-01 3.51225701e-01\n",
            " 3.57445881e-01 3.63577402e-01 3.69615430e-01 3.75555195e-01\n",
            " 3.81391988e-01 3.87121162e-01 3.92738136e-01 3.98238398e-01\n",
            " 4.03617502e-01 4.08871070e-01 4.13994796e-01 4.18984444e-01\n",
            " 4.23835851e-01 4.28544925e-01 4.33107647e-01 4.37520072e-01\n",
            " 4.41778328e-01 4.45878617e-01 4.49817212e-01 4.53590462e-01\n",
            " 4.57194788e-01 4.60626682e-01 4.63882709e-01 4.66959504e-01\n",
            " 4.69853771e-01 4.72562283e-01 4.75081881e-01 4.77409471e-01\n",
            " 4.79542022e-01 4.81476566e-01 4.83210194e-01 4.84740055e-01\n",
            " 4.86063353e-01 4.87177343e-01 4.88079330e-01 4.88766664e-01\n",
            " 4.89236737e-01 4.89486979e-01 4.89514853e-01 4.89317853e-01\n",
            " 4.88893493e-01 4.88239308e-01 4.87352847e-01 4.86231660e-01\n",
            " 4.84873299e-01 4.83275306e-01 4.81435207e-01 4.79350498e-01\n",
            " 4.77018641e-01 4.74437050e-01 4.71603079e-01 4.68514007e-01\n",
            " 4.65167028e-01 4.61559232e-01 4.57687585e-01 4.53548912e-01\n",
            " 4.49139876e-01 4.44456951e-01 4.39496391e-01 4.34254208e-01\n",
            " 4.28726127e-01 4.22907552e-01 4.16793517e-01 4.10378635e-01\n",
            " 4.03657039e-01 3.96622309e-01 3.89267394e-01 3.81584516e-01\n",
            " 3.73565055e-01 3.65199421e-01 3.56476888e-01 3.47385408e-01\n",
            " 3.37911369e-01 3.28039312e-01 3.17751566e-01 3.07027796e-01\n",
            " 2.95844423e-01 2.84173870e-01 2.71983569e-01 2.59234625e-01\n",
            " 2.45879972e-01 2.31861777e-01 2.17107649e-01 2.01524918e-01\n",
            " 1.84991584e-01 1.67341207e-01 1.48335772e-01 1.27612063e-01\n",
            " 1.04560241e-01 7.79855358e-02 4.48661418e-02]\n"
          ]
        }
      ],
      "source": [
        "Mass = dm_dr(r,m,p)\n",
        "print(\"Mass per Unit, M = \", Mass)"
      ]
    },
    {
      "cell_type": "code",
      "execution_count": 54,
      "metadata": {},
      "outputs": [
        {
          "name": "stdout",
          "output_type": "stream",
          "text": [
            "initial Pressure , p[0] =  696.5487390842761 MeV/fm^3\n"
          ]
        }
      ],
      "source": [
        "print(\"initial Pressure , p[0] = \", p[0]*rho_s,\"MeV/fm^3\")"
      ]
    },
    {
      "cell_type": "code",
      "execution_count": 56,
      "metadata": {},
      "outputs": [
        {
          "name": "stdout",
          "output_type": "stream",
          "text": [
            "Simulation range, R = 0 to R =  9.759405540820579 km\n"
          ]
        }
      ],
      "source": [
        "print(\"Simulation range, R = 0 to R = \", r[-1]*r0*1e-18,\"km\")"
      ]
    },
    {
      "cell_type": "code",
      "execution_count": 57,
      "metadata": {},
      "outputs": [
        {
          "name": "stdout",
          "output_type": "stream",
          "text": [
            "step size for RK4 is  0.01\n"
          ]
        }
      ],
      "source": [
        "print(\"step size for RK4 is \", h)"
      ]
    },
    {
      "cell_type": "code",
      "execution_count": 58,
      "metadata": {},
      "outputs": [
        {
          "data": {
            "image/png": "[encoded data removed]",
            "text/plain": [
              "<Figure size 640x480 with 1 Axes>"
            ]
          },
          "metadata": {},
          "output_type": "display_data"
        }
      ],
      "source": [
        "plt.plot(r,m)\n",
        "plt.title(\"Mass vs. Radius\")\n",
        "plt.xlabel(\"Radius\")\n",
        "plt.ylabel(\"Mass (M0)\")\n",
        "plt.show()"
      ]
    },
    {
      "cell_type": "code",
      "execution_count": 59,
      "metadata": {},
      "outputs": [
        {
          "data": {
            "image/png": "[encoded data removed]",
            "text/plain": [
              "<Figure size 640x480 with 1 Axes>"
            ]
          },
          "metadata": {},
          "output_type": "display_data"
        }
      ],
      "source": [
        "plt.plot(m,p)\n",
        "plt.title(\"Mass vs. pressure\")\n",
        "plt.xlabel(\"mass\")\n",
        "plt.ylabel(\"pressure\")\n",
        "plt.show()"
      ]
    },
    {
      "cell_type": "code",
      "execution_count": null,
      "metadata": {},
      "outputs": [],
      "source": []
    }
  ],
  "metadata": {
    "colab": {
      "provenance": []
    },
    "kernelspec": {
      "display_name": "Python 3",
      "name": "python3"
    },
    "language_info": {
      "codemirror_mode": {
        "name": "ipython",
        "version": 3
      },
      "file_extension": ".py",
      "mimetype": "text/x-python",
      "name": "python",
      "nbconvert_exporter": "python",
      "pygments_lexer": "ipython3",
      "version": "3.12.3"
    }
  },
  "nbformat": 4,
  "nbformat_minor": 0
}
